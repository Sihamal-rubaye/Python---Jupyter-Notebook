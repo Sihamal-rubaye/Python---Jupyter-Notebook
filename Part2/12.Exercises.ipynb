{
 "cells": [
  {
   "cell_type": "markdown",
   "id": "16d60859",
   "metadata": {},
   "source": [
    "# 12. Exercise"
   ]
  },
  {
   "cell_type": "code",
   "execution_count": 24,
   "id": "4e3a3fd3",
   "metadata": {},
   "outputs": [],
   "source": [
    "class analysedText(object):\n",
    "    \n",
    "    def __init__ (self, text):\n",
    "       \n",
    "    # remove punctuation\n",
    "        formattedText = text.replace('.','').replace('!','').replace('?','').replace(',','')\n",
    "\n",
    "        # make text lowercase\n",
    "        formattedText = formattedText.lower()\n",
    "\n",
    "        self.fmtText = formattedText\n",
    "        \n",
    "    def freqAll(self):        \n",
    "    # split text into words\n",
    "        \n",
    "        wordList = self.fmtText.split(' ')\n",
    "\n",
    "        # Create dictionary\n",
    "        freqMap = {}\n",
    "        for word in set(wordList): # use set to remove duplicates in list\n",
    "            freqMap[word] = wordList.count(word)\n",
    "\n",
    "        return freqMap\n",
    "    \n",
    "    def freqOf(self,word):\n",
    "    # get frequency map\n",
    "        \n",
    "        freqDict = self.freqAll()\n",
    "\n",
    "        if word in freqDict:\n",
    "            return freqDict[word]\n",
    "        \n",
    "        else:\n",
    "            return 0\n",
    "\n",
    "        "
   ]
  },
  {
   "cell_type": "code",
   "execution_count": 31,
   "id": "45b195c0",
   "metadata": {},
   "outputs": [
    {
     "name": "stdout",
     "output_type": "stream",
     "text": [
      "hello this is me how are you how is everything\n",
      "{'how': 2, 'you': 1, 'this': 1, 'everything': 1, 'hello': 1, 'is': 2, 'me': 1, 'are': 1}\n",
      "2\n",
      "Constructor: \n",
      "Test Passed\n",
      "freqAll: \n",
      "Error detected. Recheck your function \n",
      "freqOf: \n",
      "Error detected. Recheck your function  \n"
     ]
    }
   ],
   "source": [
    "My_Text = analysedText(\"Hello, this is me!!. How are you?, how is everything?\")\n",
    "print(My_Text.fmtText) \n",
    "print(My_Text.freqAll())\n",
    "print(My_Text.freqOf('how'))\n",
    "\n",
    "def testMsg(passed):\n",
    "    if passed:\n",
    "       return 'Test Passed'\n",
    "    else :\n",
    "       return 'Test Failed'\n",
    "\n",
    "\n",
    "# 1.test the Constructor\n",
    "print(\"Constructor: \")\n",
    "\n",
    "try:\n",
    "    samplePassage = analysedText(\"Lorem ipsum dolor! diam amet, consetetur Lorem magna. sed diam nonumy eirmod tempor. diam et labore? et diam magna. et diam amet.\")\n",
    "    print(testMsg(samplePassage.fmtText == \"lorem ipsum dolor diam amet consetetur lorem magna sed diam nonumy eirmod tempor diam et labore et diam magna et diam amet\"))\n",
    "\n",
    "except:\n",
    "    print(\"Error detected. Recheck your function \" )\n",
    "    \n",
    "\n",
    "# 2.test freqAll\n",
    "print(\"freqAll: \")\n",
    "\n",
    "try:\n",
    "    wordMap = samplePassage.freqAll()\n",
    "    print(testMsg(wordMap==sampleMap))\n",
    "    #print(testMsg(wordMap==samplePassage.freqAll()))\n",
    "    \n",
    "except:\n",
    "    print(\"Error detected. Recheck your function \" )\n",
    "\n",
    "\n",
    "    \n",
    "    \n",
    "print(\"freqOf: \")\n",
    "\n",
    "try:\n",
    "    passed = True\n",
    "    for word in sampleMap:\n",
    "        if samplePassage.freqOf(word) != sampleMap[word]:\n",
    "            passed = False\n",
    "            break\n",
    "    print(testMsg(passed))\n",
    "    \n",
    "except:\n",
    "    print(\"Error detected. Recheck your function  \" )\n",
    "    \n",
    "\n"
   ]
  },
  {
   "cell_type": "code",
   "execution_count": null,
   "id": "215d220c",
   "metadata": {},
   "outputs": [],
   "source": []
  }
 ],
 "metadata": {
  "kernelspec": {
   "display_name": "Python 3 (ipykernel)",
   "language": "python",
   "name": "python3"
  },
  "language_info": {
   "codemirror_mode": {
    "name": "ipython",
    "version": 3
   },
   "file_extension": ".py",
   "mimetype": "text/x-python",
   "name": "python",
   "nbconvert_exporter": "python",
   "pygments_lexer": "ipython3",
   "version": "3.9.13"
  }
 },
 "nbformat": 4,
 "nbformat_minor": 5
}
