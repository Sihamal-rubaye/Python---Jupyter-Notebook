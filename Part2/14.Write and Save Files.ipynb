{
 "cells": [
  {
   "cell_type": "markdown",
   "id": "0b71b548",
   "metadata": {},
   "source": [
    "# _14.Writing Files_"
   ]
  },
  {
   "cell_type": "markdown",
   "id": "bf776225",
   "metadata": {},
   "source": [
    "![Image of python_Logo](https://res.cloudinary.com/dkni32vya/image/upload/c_thumb,w_200,g_face/v1677174880/Rose1_pq8bth.jpg)"
   ]
  },
  {
   "cell_type": "markdown",
   "id": "530849f5",
   "metadata": {},
   "source": [
    "### [for more information click here](https://www.w3schools.com/python/python_file_handling.asp)"
   ]
  },
  {
   "cell_type": "code",
   "execution_count": 8,
   "id": "4cd3e02b",
   "metadata": {},
   "outputs": [
    {
     "data": {
      "text/plain": [
       "'/Users/sihamal-rubaye/Desktop/1.JDA Program - NPower Canada/5.Python/Python_Project/week4'"
      ]
     },
     "execution_count": 8,
     "metadata": {},
     "output_type": "execute_result"
    }
   ],
   "source": [
    "# My Current Directory\n",
    "import os\n",
    "cwd = os.getcwd()\n",
    "cwd"
   ]
  },
  {
   "cell_type": "code",
   "execution_count": 2,
   "id": "8648e03d",
   "metadata": {},
   "outputs": [],
   "source": [
    "# Write line to file\n",
    "exmp2 = 'Rose.txt'\n",
    "with open(exmp2, 'w') as writefile:\n",
    "    writefile.write(\"Hello, This is Rose\\n\")"
   ]
  },
  {
   "cell_type": "markdown",
   "id": "bd50282a",
   "metadata": {},
   "source": [
    "<img src=\"https://cf-courses-data.s3.us.cloud-object-storage.appdomain.cloud/IBMDeveloperSkillsNetwork-PY0101EN-SkillsNetwork/labs/Module%204/images/WriteLine.png\" width=\"500\">"
   ]
  },
  {
   "cell_type": "code",
   "execution_count": 52,
   "id": "7dfdabd6",
   "metadata": {
    "scrolled": true
   },
   "outputs": [
    {
     "name": "stdout",
     "output_type": "stream",
     "text": [
      "Hello, This is Rose\n",
      "\n"
     ]
    }
   ],
   "source": [
    "# Read file\n",
    "\n",
    "with open(exmp2, 'r') as testwritefile:\n",
    "    print(testwritefile.read())"
   ]
  },
  {
   "cell_type": "code",
   "execution_count": 56,
   "id": "368e22b2",
   "metadata": {},
   "outputs": [],
   "source": [
    "# append lines to file # I sat the mode to ainstead \n",
    "#of r because r will create new file \n",
    "#and the first statement will disapear\n",
    "\n",
    "with open(exmp2, 'a') as writefile:\n",
    "    writefile.write(\"Dalya is my lovely daughter\\n\")\n",
    "    writefile.write(\"Mustafa is my handsome son\\n\")"
   ]
  },
  {
   "cell_type": "code",
   "execution_count": 57,
   "id": "8d2bf997",
   "metadata": {},
   "outputs": [
    {
     "name": "stdout",
     "output_type": "stream",
     "text": [
      "Hello, This is Rose\n",
      "Dalya is my lovely daughter\n",
      "Mustafa is my handsome son\n",
      "\n"
     ]
    }
   ],
   "source": [
    "# Read file\n",
    "\n",
    "with open(exmp2, 'r') as testwritefile:\n",
    "    print(testwritefile.read())"
   ]
  },
  {
   "cell_type": "code",
   "execution_count": 21,
   "id": "fef8ca18",
   "metadata": {},
   "outputs": [
    {
     "name": "stdout",
     "output_type": "stream",
     "text": [
      "This is line A\n",
      "This is line B\n",
      "\n"
     ]
    }
   ],
   "source": [
    "with open(exmp2, 'w') as writefile: # because I used w mode I got this result\n",
    "    writefile.write(\"This is line A\\n\")\n",
    "    writefile.write(\"This is line B\\n\")\n",
    "with open(exmp2, 'r') as testwritefile:\n",
    "    print(testwritefile.read())"
   ]
  },
  {
   "cell_type": "code",
   "execution_count": 22,
   "id": "31e73073",
   "metadata": {},
   "outputs": [
    {
     "name": "stdout",
     "output_type": "stream",
     "text": [
      "This is line A\n",
      "This is line B\n",
      "\n"
     ]
    }
   ],
   "source": [
    "# Check whether write to file\n",
    "\n",
    "with open(exmp2, 'r') as testwritefile:\n",
    "    print(testwritefile.read())"
   ]
  },
  {
   "cell_type": "code",
   "execution_count": 23,
   "id": "9b3b1a0d",
   "metadata": {},
   "outputs": [
    {
     "data": {
      "text/plain": [
       "['This is line A\\n', 'This is line B\\n', 'This is line C\\n']"
      ]
     },
     "execution_count": 23,
     "metadata": {},
     "output_type": "execute_result"
    }
   ],
   "source": [
    "# Sample list of text\n",
    "\n",
    "Lines = [\"This is line A\\n\", \"This is line B\\n\", \"This is line C\\n\"]\n",
    "Lines"
   ]
  },
  {
   "cell_type": "code",
   "execution_count": 24,
   "id": "af7fc43a",
   "metadata": {},
   "outputs": [
    {
     "name": "stdout",
     "output_type": "stream",
     "text": [
      "This is line A\n",
      "\n",
      "This is line B\n",
      "\n",
      "This is line C\n",
      "\n"
     ]
    }
   ],
   "source": [
    "# Write the strings in the list to text file\n",
    "\n",
    "with open('Example2.txt', 'w') as writefile:\n",
    "    for line in Lines:\n",
    "        print(line)\n",
    "        writefile.write(line)"
   ]
  },
  {
   "cell_type": "code",
   "execution_count": 25,
   "id": "ba307bff",
   "metadata": {},
   "outputs": [
    {
     "name": "stdout",
     "output_type": "stream",
     "text": [
      "This is line A\n",
      "This is line B\n",
      "This is line C\n",
      "\n"
     ]
    }
   ],
   "source": [
    "# Verify if writing to file is successfully executed\n",
    "\n",
    "with open('Example2.txt', 'r') as testwritefile:\n",
    "    print(testwritefile.read())"
   ]
  },
  {
   "cell_type": "code",
   "execution_count": 26,
   "id": "a7353c68",
   "metadata": {},
   "outputs": [
    {
     "name": "stdout",
     "output_type": "stream",
     "text": [
      "Overwrite\n",
      "\n"
     ]
    }
   ],
   "source": [
    "# setting the mode to w overwrites all the existing data in the file\n",
    "with open('Example2.txt', 'w') as writefile:\n",
    "    writefile.write(\"Overwrite\\n\")\n",
    "with open('Example2.txt', 'r') as testwritefile:\n",
    "    print(testwritefile.read())"
   ]
  },
  {
   "cell_type": "markdown",
   "id": "68e1451c",
   "metadata": {},
   "source": [
    "## 14.1 Appending Files"
   ]
  },
  {
   "cell_type": "markdown",
   "id": "a524fb19",
   "metadata": {},
   "source": [
    "#### *** _We can write to files without losing any of the existing data as follows by setting the mode argument to append: a._"
   ]
  },
  {
   "cell_type": "code",
   "execution_count": 27,
   "id": "84e62e81",
   "metadata": {},
   "outputs": [],
   "source": [
    "# Write a new line to text file\n",
    "\n",
    "with open('Example2.txt', 'a') as testwritefile:\n",
    "    testwritefile.write(\"This is line C\\n\")\n",
    "    testwritefile.write(\"This is line D\\n\")\n",
    "    testwritefile.write(\"This is line E\\n\")"
   ]
  },
  {
   "cell_type": "code",
   "execution_count": 33,
   "id": "3358bce0",
   "metadata": {},
   "outputs": [
    {
     "name": "stdout",
     "output_type": "stream",
     "text": [
      "Overwrite\n",
      "This is line C\n",
      "This is line D\n",
      "This is line E\n",
      "This is line E\n",
      "This is line E\n",
      "This is line E\n",
      "\n"
     ]
    }
   ],
   "source": [
    "# Verify if the new line is in the text file\n",
    "\n",
    "with open('Example2.txt', 'r') as testwritefile:\n",
    "    print(testwritefile.read())"
   ]
  },
  {
   "cell_type": "markdown",
   "id": "99e0d755",
   "metadata": {},
   "source": [
    "## 14.2 Additional modes"
   ]
  },
  {
   "cell_type": "markdown",
   "id": "4f713f80",
   "metadata": {},
   "source": [
    "_**It's fairly ineffecient to open the file in a or w and then reopening it in r to read any lines. Luckily we can access the file in the following modes:**_"
   ]
  },
  {
   "cell_type": "markdown",
   "id": "d0b18554",
   "metadata": {},
   "source": [
    "**1. r+** : Reading and writing. Cannot truncate the file.  \n",
    "**2. w+** : Writing and reading. Truncates the file.  \n",
    "**3. a+** : Appending and Reading. Creates a new file, if none exists."
   ]
  },
  {
   "cell_type": "code",
   "execution_count": 42,
   "id": "e0986310",
   "metadata": {
    "scrolled": true
   },
   "outputs": [
    {
     "name": "stdout",
     "output_type": "stream",
     "text": [
      "\n"
     ]
    }
   ],
   "source": [
    "with open('Example2.txt', 'a+') as testwritefile:\n",
    "    testwritefile.write(\"This is line E\\n\")\n",
    "#with open('Example2.txt', 'r') as testwritefile:\n",
    "    print(testwritefile.read())"
   ]
  },
  {
   "cell_type": "markdown",
   "id": "ce7dc402",
   "metadata": {},
   "source": [
    "## 14.3 Moving Cursor"
   ]
  },
  {
   "cell_type": "markdown",
   "id": "ad3f4d79",
   "metadata": {},
   "source": [
    "**Opening the file in w is akin to opening the .txt file, moving your cursor to the beginning of the text file, writing new text and deleting everything that follows. Whereas opening the file in a is similiar to opening the .txt file, moving your cursor to the very end and then adding the new pieces of text.**"
   ]
  },
  {
   "cell_type": "markdown",
   "id": "04a5ac6d",
   "metadata": {},
   "source": [
    "**It is often very useful to know where the 'cursor' is in a file and be able to control it. The following methods allow us to do precisely this**"
   ]
  },
  {
   "cell_type": "markdown",
   "id": "ed423ef5",
   "metadata": {},
   "source": [
    "* .tell() - returns the current position in bytes\n",
    "* .seek(offset,from) - changes the position by 'offset' bytes with respect to 'from'. \n",
    "From can take the value of 0,1,2 corresponding to beginning, relative to current position and end"
   ]
  },
  {
   "cell_type": "code",
   "execution_count": 62,
   "id": "ce01f1b4",
   "metadata": {},
   "outputs": [],
   "source": [
    "# tell()- Returns the current file position\n",
    "# seek()- Change the file position"
   ]
  },
  {
   "cell_type": "code",
   "execution_count": 43,
   "id": "117f30f3",
   "metadata": {},
   "outputs": [
    {
     "name": "stdout",
     "output_type": "stream",
     "text": [
      "Initial Location: 70\n",
      "Read nothing\n",
      "\n",
      "New Location : 0\n",
      "Overwrite\n",
      "This is line C\n",
      "This is line D\n",
      "This is line E\n",
      "This is line E\n",
      "\n",
      "Location after read: 70\n"
     ]
    }
   ],
   "source": [
    "with open('Example2.txt', 'a+') as testwritefile:\n",
    "    print(\"Initial Location: {}\".format(testwritefile.tell()))\n",
    "    \n",
    "    data = testwritefile.read()\n",
    "    if (not data):  #empty strings return false in python\n",
    "            print('Read nothing') \n",
    "    else: \n",
    "            print(testwritefile.read())\n",
    "            \n",
    "    testwritefile.seek(0,0) # move 0 bytes from beginning.\n",
    "    \n",
    "    print(\"\\nNew Location : {}\".format(testwritefile.tell()))\n",
    "    data = testwritefile.read()\n",
    "    if (not data): \n",
    "            print('Read nothing') \n",
    "    else: \n",
    "            print(data)\n",
    "    \n",
    "    print(\"Location after read: {}\".format(testwritefile.tell()) )"
   ]
  },
  {
   "cell_type": "code",
   "execution_count": null,
   "id": "fa7b8faa",
   "metadata": {},
   "outputs": [],
   "source": [
    "# Finally, a note on the difference between w+ and r+. Both of these modes allow access to read and write methods, \n",
    "# however, opening a file in w+ overwrites it and deletes all pre-existing data.\n",
    "# To work with a file on existing data, use r+ and a+. While using r+, it can be useful to add a .truncate() method \n",
    "# at the end of your data. This will reduce the file to your data and delete everything that follows.\n",
    "# In the following code block, Run the code as it is first and then run it with the .truncate()."
   ]
  },
  {
   "cell_type": "code",
   "execution_count": 61,
   "id": "3f3d9ab8",
   "metadata": {},
   "outputs": [
    {
     "name": "stdout",
     "output_type": "stream",
     "text": [
      "Line 1\n",
      "Line 2\n",
      "Line 3\n",
      "finished\n",
      "\n"
     ]
    }
   ],
   "source": [
    "with open('Rose.txt', 'r+') as testwritefile:\n",
    "    data = testwritefile.readlines()\n",
    "    testwritefile.seek(0,0) #write at beginning of file\n",
    "   \n",
    "    testwritefile.write(\"Line 1\" + \"\\n\")\n",
    "    testwritefile.write(\"Line 2\" + \"\\n\")\n",
    "    testwritefile.write(\"Line 3\" + \"\\n\")\n",
    "    testwritefile.write(\"finished\\n\")\n",
    "    testwritefile.truncate() # really important try to comment then uncomment\n",
    "    testwritefile.seek(0,0)\n",
    "    print(testwritefile.read())"
   ]
  },
  {
   "cell_type": "code",
   "execution_count": 64,
   "id": "054cf95b",
   "metadata": {},
   "outputs": [
    {
     "name": "stdout",
     "output_type": "stream",
     "text": [
      "Hello, This is Rose\n",
      "\n"
     ]
    }
   ],
   "source": [
    "f = open(\"demofile2.txt\", \"a\")\n",
    "f.truncate(20)\n",
    "f.close()\n",
    "\n",
    "#open and read the file after the truncate:\n",
    "f = open(\"demofile2.txt\", \"r\")\n",
    "print(f.read())"
   ]
  },
  {
   "cell_type": "markdown",
   "id": "9665e515",
   "metadata": {},
   "source": [
    "## 14.4 Copy a File"
   ]
  },
  {
   "cell_type": "markdown",
   "id": "1edd87bf",
   "metadata": {},
   "source": [
    "- Let's copy the file Example1.txt to the file Example3.txt: \n",
    "- it's going to overwrite everything so you are going to have 2 same copies"
   ]
  },
  {
   "cell_type": "code",
   "execution_count": 67,
   "id": "15c57016",
   "metadata": {},
   "outputs": [],
   "source": [
    "# Copy file to another\n",
    "\n",
    "with open('Example1.txt','r') as readfile:\n",
    "    with open('Example3.txt','w') as writefile:\n",
    "          for line in readfile:\n",
    "                writefile.write(line)"
   ]
  },
  {
   "cell_type": "code",
   "execution_count": 68,
   "id": "7489de37",
   "metadata": {},
   "outputs": [
    {
     "name": "stdout",
     "output_type": "stream",
     "text": [
      "This is line 1 \n",
      "This is line 2\n",
      "This is line 3\n"
     ]
    }
   ],
   "source": [
    "# Verify if the copy is successfully executed\n",
    "\n",
    "with open('Example3.txt','r') as testwritefile:\n",
    "    print(testwritefile.read())"
   ]
  }
 ],
 "metadata": {
  "kernelspec": {
   "display_name": "Python 3 (ipykernel)",
   "language": "python",
   "name": "python3"
  },
  "language_info": {
   "codemirror_mode": {
    "name": "ipython",
    "version": 3
   },
   "file_extension": ".py",
   "mimetype": "text/x-python",
   "name": "python",
   "nbconvert_exporter": "python",
   "pygments_lexer": "ipython3",
   "version": "3.9.13"
  }
 },
 "nbformat": 4,
 "nbformat_minor": 5
}
