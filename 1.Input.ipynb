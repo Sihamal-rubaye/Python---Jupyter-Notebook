{
 "cells": [
  {
   "cell_type": "code",
   "execution_count": 1,
   "id": "175190f3",
   "metadata": {},
   "outputs": [
    {
     "name": "stdout",
     "output_type": "stream",
     "text": [
      "Please enter your name:Rose\n",
      "Rose\n"
     ]
    }
   ],
   "source": [
    "name = input (\"Please enter your name:\")\n",
    "print (name)"
   ]
  },
  {
   "cell_type": "markdown",
   "id": "f9c5ad20",
   "metadata": {},
   "source": [
    "x, y = input(\"Enter a two value: \").split()\n",
    "print(\"Number of boys: \", x)\n",
    "print(\"Number of girls: \", y)\n",
    "print()"
   ]
  },
  {
   "cell_type": "code",
   "execution_count": 5,
   "id": "74a10047",
   "metadata": {},
   "outputs": [
    {
     "name": "stdout",
     "output_type": "stream",
     "text": [
      "Enter a two value: 3 5\n",
      "Number of boys:  3\n",
      "Number of girls:  5\n",
      "\n"
     ]
    }
   ],
   "source": [
    "# taking two inputs at a time\n",
    "x, y = input(\"Enter a two value: \").split()\n",
    "print(\"Number of boys: \", x)\n",
    "print(\"Number of girls: \", y)\n",
    "print()"
   ]
  },
  {
   "cell_type": "code",
   "execution_count": 6,
   "id": "492d5904",
   "metadata": {},
   "outputs": [
    {
     "name": "stdout",
     "output_type": "stream",
     "text": [
      "Enter a three value: 45 30 35\n",
      "Total number of students:  45\n",
      "Number of boys is :  30\n",
      "Number of girls is :  35\n",
      "\n"
     ]
    }
   ],
   "source": [
    "# taking three inputs at a time\n",
    "x, y, z = input(\"Enter a three value: \").split()\n",
    "print(\"Total number of students: \", x)\n",
    "print(\"Number of boys is : \", y)\n",
    "print(\"Number of girls is : \", z)\n",
    "print()"
   ]
  },
  {
   "cell_type": "code",
   "execution_count": 7,
   "id": "49fcaf1c",
   "metadata": {},
   "outputs": [
    {
     "name": "stdout",
     "output_type": "stream",
     "text": [
      "Enter a two value: Rose 2\n",
      "First number is Rose and second number is 2\n",
      "\n"
     ]
    }
   ],
   "source": [
    "# taking two inputs at a time\n",
    "a, b = input(\"Enter a two value: \").split()\n",
    "print(\"First number is {} and second number is {}\".format(a, b))\n",
    "print()"
   ]
  },
  {
   "cell_type": "code",
   "execution_count": 10,
   "id": "f5c3cb2b",
   "metadata": {},
   "outputs": [
    {
     "name": "stdout",
     "output_type": "stream",
     "text": [
      "Enter a multiple value: 10 20 90\n",
      "List of students:  [10, 20, 90]\n"
     ]
    }
   ],
   "source": [
    "# taking multiple inputs at a time\n",
    "# and type casting using list() function\n",
    "x = list(map(int, input(\"Enter a multiple value: \").split()))\n",
    "print(\"List of students: \", x)"
   ]
  }
 ],
 "metadata": {
  "kernelspec": {
   "display_name": "Python 3 (ipykernel)",
   "language": "python",
   "name": "python3"
  },
  "language_info": {
   "codemirror_mode": {
    "name": "ipython",
    "version": 3
   },
   "file_extension": ".py",
   "mimetype": "text/x-python",
   "name": "python",
   "nbconvert_exporter": "python",
   "pygments_lexer": "ipython3",
   "version": "3.9.13"
  }
 },
 "nbformat": 4,
 "nbformat_minor": 5
}
