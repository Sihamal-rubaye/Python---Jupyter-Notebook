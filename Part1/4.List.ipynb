{
 "cells": [
  {
   "cell_type": "markdown",
   "id": "6fcb0c1b",
   "metadata": {},
   "source": [
    "# 4. Lists"
   ]
  },
  {
   "cell_type": "code",
   "execution_count": 3,
   "id": "1be754af",
   "metadata": {},
   "outputs": [
    {
     "data": {
      "text/plain": [
       "['Rose', 100, 6.7, 100]"
      ]
     },
     "execution_count": 3,
     "metadata": {},
     "output_type": "execute_result"
    }
   ],
   "source": [
    "L = [\"Rose\", 100, 6.7,100] \n",
    "L"
   ]
  },
  {
   "cell_type": "code",
   "execution_count": 4,
   "id": "719cb068",
   "metadata": {},
   "outputs": [
    {
     "data": {
      "text/plain": [
       "100"
      ]
     },
     "execution_count": 4,
     "metadata": {},
     "output_type": "execute_result"
    }
   ],
   "source": [
    "L[-1]"
   ]
  },
  {
   "cell_type": "code",
   "execution_count": 5,
   "id": "769ee8aa",
   "metadata": {},
   "outputs": [
    {
     "data": {
      "text/plain": [
       "6.7"
      ]
     },
     "execution_count": 5,
     "metadata": {},
     "output_type": "execute_result"
    }
   ],
   "source": [
    "L[2]"
   ]
  },
  {
   "cell_type": "markdown",
   "id": "875ae89c",
   "metadata": {},
   "source": [
    "## 4.1 Concatenate"
   ]
  },
  {
   "cell_type": "code",
   "execution_count": 7,
   "id": "ad9ba41b",
   "metadata": {},
   "outputs": [
    {
     "data": {
      "text/plain": [
       "['Rose', 100, 6.7, 100, 'Moh', 45]"
      ]
     },
     "execution_count": 7,
     "metadata": {},
     "output_type": "execute_result"
    }
   ],
   "source": [
    "#concatenate\n",
    "L1 = L + [\"Moh\", 45]\n",
    "L1"
   ]
  },
  {
   "cell_type": "code",
   "execution_count": 8,
   "id": "08bb757e",
   "metadata": {},
   "outputs": [
    {
     "data": {
      "text/plain": [
       "[100, 'Moh']"
      ]
     },
     "execution_count": 8,
     "metadata": {},
     "output_type": "execute_result"
    }
   ],
   "source": [
    "#slicing\n",
    "L1[3:5]"
   ]
  },
  {
   "cell_type": "code",
   "execution_count": 9,
   "id": "7b19484d",
   "metadata": {},
   "outputs": [
    {
     "data": {
      "text/plain": [
       "['Rose', 6.7, 'Moh']"
      ]
     },
     "execution_count": 9,
     "metadata": {},
     "output_type": "execute_result"
    }
   ],
   "source": [
    "#stride\n",
    "L1[::2]"
   ]
  },
  {
   "cell_type": "code",
   "execution_count": 10,
   "id": "55ff0466",
   "metadata": {},
   "outputs": [
    {
     "data": {
      "text/plain": [
       "6"
      ]
     },
     "execution_count": 10,
     "metadata": {},
     "output_type": "execute_result"
    }
   ],
   "source": [
    "len(L1)"
   ]
  },
  {
   "cell_type": "code",
   "execution_count": 11,
   "id": "8033670c",
   "metadata": {},
   "outputs": [
    {
     "name": "stdout",
     "output_type": "stream",
     "text": [
      "[0, 1, 2, 4, 5, 7, 8, 10]\n"
     ]
    }
   ],
   "source": [
    "#sorting\n",
    "Ratings = [10,5,7,4,2,1,8,0]\n",
    "print((sorted(Ratings)))"
   ]
  },
  {
   "cell_type": "code",
   "execution_count": 12,
   "id": "fab7f5ea",
   "metadata": {},
   "outputs": [
    {
     "data": {
      "text/plain": [
       "[0, 1, 2, 4, 5, 7, 8, 10]"
      ]
     },
     "execution_count": 12,
     "metadata": {},
     "output_type": "execute_result"
    }
   ],
   "source": [
    "ratings_sorted = sorted(Ratings)\n",
    "ratings_sorted"
   ]
  },
  {
   "cell_type": "markdown",
   "id": "1a5e3882",
   "metadata": {},
   "source": [
    "## 4.2 Nesting"
   ]
  },
  {
   "cell_type": "code",
   "execution_count": 14,
   "id": "378082de",
   "metadata": {},
   "outputs": [
    {
     "data": {
      "text/plain": [
       "[1, 2, ('pop', 'rock'), [3, 4], 'disco', (1, 2)]"
      ]
     },
     "execution_count": 14,
     "metadata": {},
     "output_type": "execute_result"
    }
   ],
   "source": [
    "NT_LIST = [1,2,(\"pop\", \"rock\"), [3,4],\"disco\",(1,2)]\n",
    "NT_LIST"
   ]
  },
  {
   "cell_type": "code",
   "execution_count": 16,
   "id": "cfb0f506",
   "metadata": {},
   "outputs": [
    {
     "data": {
      "text/plain": [
       "'disco'"
      ]
     },
     "execution_count": 16,
     "metadata": {},
     "output_type": "execute_result"
    }
   ],
   "source": [
    "NT_LIST[4]"
   ]
  },
  {
   "cell_type": "code",
   "execution_count": 18,
   "id": "7cbbc0e3",
   "metadata": {},
   "outputs": [
    {
     "data": {
      "text/plain": [
       "'pop'"
      ]
     },
     "execution_count": 18,
     "metadata": {},
     "output_type": "execute_result"
    }
   ],
   "source": [
    "NT_LIST[2][0]"
   ]
  },
  {
   "cell_type": "code",
   "execution_count": 21,
   "id": "8e0d77f7",
   "metadata": {},
   "outputs": [
    {
     "data": {
      "text/plain": [
       "'c'"
      ]
     },
     "execution_count": 21,
     "metadata": {},
     "output_type": "execute_result"
    }
   ],
   "source": [
    "NT_LIST[2][1][2]"
   ]
  },
  {
   "cell_type": "markdown",
   "id": "98a616e1",
   "metadata": {},
   "source": [
    "## 4.3 List Methods"
   ]
  },
  {
   "cell_type": "code",
   "execution_count": 35,
   "id": "77708084",
   "metadata": {},
   "outputs": [
    {
     "data": {
      "text/plain": [
       "[1, 2, ('pop', 'rock'), [3, 4], 'disco', (1, 2), 'Dalya', 'Mustafa']"
      ]
     },
     "execution_count": 35,
     "metadata": {},
     "output_type": "execute_result"
    }
   ],
   "source": [
    "#extend() method - adding one or more elements\n",
    "NT_LIST.extend([\"Dalya\",\"Mustafa\"])\n",
    "NT_LIST"
   ]
  },
  {
   "cell_type": "code",
   "execution_count": 36,
   "id": "ad622b7e",
   "metadata": {},
   "outputs": [
    {
     "data": {
      "text/plain": [
       "[1, 2, ('pop', 'rock'), [3, 4], 'disco', (1, 2), 'Dalya', 'Mustafa', [5, 10]]"
      ]
     },
     "execution_count": 36,
     "metadata": {},
     "output_type": "execute_result"
    }
   ],
   "source": [
    "#append() method - adding one element\n",
    "NT_LIST.append([5,10])\n",
    "NT_LIST"
   ]
  },
  {
   "cell_type": "code",
   "execution_count": 37,
   "id": "8e67d596",
   "metadata": {},
   "outputs": [
    {
     "data": {
      "text/plain": [
       "[1, 2, ('pop', 'rock'), [3, 4], 'disco', 'Dalya', 'Mustafa', [5, 10]]"
      ]
     },
     "execution_count": 37,
     "metadata": {},
     "output_type": "execute_result"
    }
   ],
   "source": [
    "#del() - delete \n",
    "del(NT_LIST[5])\n",
    "NT_LIST"
   ]
  },
  {
   "cell_type": "code",
   "execution_count": 38,
   "id": "c0fa2a02",
   "metadata": {},
   "outputs": [
    {
     "data": {
      "text/plain": [
       "['Rose', 'Shaker']"
      ]
     },
     "execution_count": 38,
     "metadata": {},
     "output_type": "execute_result"
    }
   ],
   "source": [
    "#split() - converting string to list\n",
    "\"Rose Shaker\".split()"
   ]
  },
  {
   "cell_type": "code",
   "execution_count": 39,
   "id": "e2758a07",
   "metadata": {},
   "outputs": [
    {
     "data": {
      "text/plain": [
       "['A', 'B', 'C', 'D']"
      ]
     },
     "execution_count": 39,
     "metadata": {},
     "output_type": "execute_result"
    }
   ],
   "source": [
    "\"A,B,C,D\".split(\",\")"
   ]
  },
  {
   "cell_type": "markdown",
   "id": "5238d5ff",
   "metadata": {},
   "source": [
    "## 4.4 Clone"
   ]
  },
  {
   "cell_type": "code",
   "execution_count": 59,
   "id": "4a189aa1",
   "metadata": {},
   "outputs": [
    {
     "name": "stdout",
     "output_type": "stream",
     "text": [
      "This is the B list after addition ['A', 'B', 'C', 'D']\n"
     ]
    }
   ],
   "source": [
    "# List B will change if you change List A\n",
    "A = [\"A\", \"B\", \"C\"]\n",
    "B = A\n",
    "B\n",
    "A.append(\"D\")\n",
    "print(\"This is the B list after addition\", B)"
   ]
  },
  {
   "cell_type": "code",
   "execution_count": 61,
   "id": "69ee9e60",
   "metadata": {},
   "outputs": [
    {
     "name": "stdout",
     "output_type": "stream",
     "text": [
      "This is the B list after addition ['A', 'B', 'C']\n"
     ]
    }
   ],
   "source": [
    "# List B won'tchange if you change List A\n",
    "A = [\"A\", \"B\", \"C\"]\n",
    "B = A[:]\n",
    "A.append(\"D\")\n",
    "print(\"This is the B list after addition\", B)"
   ]
  }
 ],
 "metadata": {
  "kernelspec": {
   "display_name": "Python 3 (ipykernel)",
   "language": "python",
   "name": "python3"
  },
  "language_info": {
   "codemirror_mode": {
    "name": "ipython",
    "version": 3
   },
   "file_extension": ".py",
   "mimetype": "text/x-python",
   "name": "python",
   "nbconvert_exporter": "python",
   "pygments_lexer": "ipython3",
   "version": "3.9.13"
  }
 },
 "nbformat": 4,
 "nbformat_minor": 5
}
