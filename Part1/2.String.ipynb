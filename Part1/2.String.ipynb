{
 "cells": [
  {
   "cell_type": "markdown",
   "id": "b64e045f",
   "metadata": {},
   "source": [
    "# 2. String"
   ]
  },
  {
   "cell_type": "code",
   "execution_count": 1,
   "id": "f3727f54",
   "metadata": {},
   "outputs": [],
   "source": [
    "import sys"
   ]
  },
  {
   "cell_type": "code",
   "execution_count": 2,
   "id": "b07d94af",
   "metadata": {
    "scrolled": false
   },
   "outputs": [
    {
     "name": "stdout",
     "output_type": "stream",
     "text": [
      "3.9.13 (main, Aug 25 2022, 18:29:29) \n",
      "[Clang 12.0.0 ]\n"
     ]
    }
   ],
   "source": [
    "print(sys.version)"
   ]
  },
  {
   "cell_type": "code",
   "execution_count": 6,
   "id": "5d27ab28",
   "metadata": {},
   "outputs": [
    {
     "name": "stdout",
     "output_type": "stream",
     "text": [
      "Python 3.9.13\r\n"
     ]
    }
   ],
   "source": [
    "!python --version "
   ]
  },
  {
   "cell_type": "markdown",
   "id": "3785f5d3",
   "metadata": {},
   "source": [
    "## 2.1 Printing"
   ]
  },
  {
   "cell_type": "code",
   "execution_count": null,
   "id": "30479918",
   "metadata": {},
   "outputs": [],
   "source": [
    "print(\"HELLO\")"
   ]
  },
  {
   "cell_type": "code",
   "execution_count": 6,
   "id": "bfc19b03",
   "metadata": {},
   "outputs": [
    {
     "name": "stdout",
     "output_type": "stream",
     "text": [
      "ABC\tCDE\n",
      "FGH\n"
     ]
    }
   ],
   "source": [
    "print(\"ABC\\tCDE\\nFGH\")"
   ]
  },
  {
   "cell_type": "code",
   "execution_count": 7,
   "id": "bc28c118",
   "metadata": {},
   "outputs": [
    {
     "name": "stdout",
     "output_type": "stream",
     "text": [
      "Rose Shakir \\ is a good mother\n"
     ]
    }
   ],
   "source": [
    "print(\"Rose Shakir \\\\ is a good mother\")"
   ]
  },
  {
   "cell_type": "code",
   "execution_count": 8,
   "id": "32272cb9",
   "metadata": {},
   "outputs": [
    {
     "name": "stdout",
     "output_type": "stream",
     "text": [
      "Rose Shakir \\is a good mother\n"
     ]
    }
   ],
   "source": [
    "print(r\"Rose Shakir \\is a good mother\")"
   ]
  },
  {
   "cell_type": "code",
   "execution_count": 23,
   "id": "caecdc11",
   "metadata": {},
   "outputs": [
    {
     "name": "stdout",
     "output_type": "stream",
     "text": [
      "Twinkle, twinkle, little star, \n",
      "\t How I wonder what you are! \n",
      "\t\t Up above the world so high, \n",
      "\t\t\t Like a diamond in the sky.\n"
     ]
    }
   ],
   "source": [
    "#Write a Python code to print the following string in a specific format (see the\n",
    "# Twinkle, twinkle, little star,\n",
    "# How I wonder what you are!\n",
    "# Up above the world so high,\n",
    "# Like a diamond in the sky.\n",
    "\n",
    "s1 = \"Twinkle, twinkle, little star,\"\n",
    "s2 = \"How I wonder what you are!\"\n",
    "s3 = \"Up above the world so high,\"\n",
    "s4 = \"Like a diamond in the sky.\"\n",
    "\n",
    "print(s1,\"\\n\\t\", s2,\"\\n\\t\\t\", s3,\"\\n\\t\\t\\t\", s4)"
   ]
  },
  {
   "cell_type": "code",
   "execution_count": 10,
   "id": "d14d1938",
   "metadata": {},
   "outputs": [],
   "source": [
    "Name =\"Rose Shakir\""
   ]
  },
  {
   "cell_type": "code",
   "execution_count": 8,
   "id": "baae0a03",
   "metadata": {
    "scrolled": true
   },
   "outputs": [
    {
     "data": {
      "text/plain": [
       "'Rose Shakir'"
      ]
     },
     "execution_count": 8,
     "metadata": {},
     "output_type": "execute_result"
    }
   ],
   "source": [
    "Name"
   ]
  },
  {
   "cell_type": "markdown",
   "id": "33bbb9f2",
   "metadata": {},
   "source": [
    "## 2.2 Type() Method"
   ]
  },
  {
   "cell_type": "code",
   "execution_count": 19,
   "id": "994052e4",
   "metadata": {},
   "outputs": [
    {
     "name": "stdout",
     "output_type": "stream",
     "text": [
      "<class 'str'>\n",
      "<class 'tuple'>\n",
      "<class 'tuple'>\n"
     ]
    }
   ],
   "source": [
    "var1 = (\"hello\")\n",
    "print(type(var1))  # <class 'str'>\n",
    "\n",
    "# Creating a tuple having one element\n",
    "var2 = (\"hello\",)\n",
    "print(type(var2))  # <class 'tuple'>\n",
    "\n",
    "# Parentheses is optional\n",
    "var3 = \"hello\",\n",
    "print(type(var3))  # <class 'tuple'>"
   ]
  },
  {
   "cell_type": "markdown",
   "id": "ff72710a",
   "metadata": {},
   "source": [
    "## 2.3 Slicing"
   ]
  },
  {
   "cell_type": "code",
   "execution_count": 29,
   "id": "0f0d3a7c",
   "metadata": {},
   "outputs": [
    {
     "data": {
      "text/plain": [
       "'S'"
      ]
     },
     "execution_count": 29,
     "metadata": {},
     "output_type": "execute_result"
    }
   ],
   "source": [
    "Name[5]"
   ]
  },
  {
   "cell_type": "code",
   "execution_count": 22,
   "id": "62f6d238",
   "metadata": {},
   "outputs": [
    {
     "data": {
      "text/plain": [
       "'ri'"
      ]
     },
     "execution_count": 22,
     "metadata": {},
     "output_type": "execute_result"
    }
   ],
   "source": [
    "Name[-1:-3:-1] # in negative we have to put the jump which is the last no -1"
   ]
  },
  {
   "cell_type": "code",
   "execution_count": 11,
   "id": "efdbb6c2",
   "metadata": {},
   "outputs": [
    {
     "data": {
      "text/plain": [
       "'Rose'"
      ]
     },
     "execution_count": 11,
     "metadata": {},
     "output_type": "execute_result"
    }
   ],
   "source": [
    "Name[0:4]"
   ]
  },
  {
   "cell_type": "code",
   "execution_count": 12,
   "id": "5c7dd316",
   "metadata": {},
   "outputs": [
    {
     "data": {
      "text/plain": [
       "'Sha'"
      ]
     },
     "execution_count": 12,
     "metadata": {},
     "output_type": "execute_result"
    }
   ],
   "source": [
    "Name[5:8]"
   ]
  },
  {
   "cell_type": "markdown",
   "id": "64015b5b",
   "metadata": {},
   "source": [
    "## 2.4 Stride"
   ]
  },
  {
   "cell_type": "code",
   "execution_count": 13,
   "id": "387a5b45",
   "metadata": {},
   "outputs": [
    {
     "data": {
      "text/plain": [
       "'Rs hkr'"
      ]
     },
     "execution_count": 13,
     "metadata": {},
     "output_type": "execute_result"
    }
   ],
   "source": [
    "#stride\n",
    "Name[::2]"
   ]
  },
  {
   "cell_type": "code",
   "execution_count": 14,
   "id": "21292ab6",
   "metadata": {},
   "outputs": [
    {
     "data": {
      "text/plain": [
       "'Rs h'"
      ]
     },
     "execution_count": 14,
     "metadata": {},
     "output_type": "execute_result"
    }
   ],
   "source": [
    "#Slice and stride\n",
    "Name[0:7:2]"
   ]
  },
  {
   "cell_type": "markdown",
   "id": "1c557cc5",
   "metadata": {},
   "source": [
    "## 2.5 String_Methods"
   ]
  },
  {
   "cell_type": "code",
   "execution_count": 15,
   "id": "c6da56af",
   "metadata": {},
   "outputs": [
    {
     "name": "stdout",
     "output_type": "stream",
     "text": [
      "ROSE\n"
     ]
    }
   ],
   "source": [
    "#Upper() method\n",
    "A= \"rose\"\n",
    "print(A.upper())"
   ]
  },
  {
   "cell_type": "code",
   "execution_count": 5,
   "id": "2c25b932",
   "metadata": {},
   "outputs": [
    {
     "data": {
      "text/plain": [
       "'Rose Ali'"
      ]
     },
     "execution_count": 5,
     "metadata": {},
     "output_type": "execute_result"
    }
   ],
   "source": [
    "#Replace() method\n",
    "A=\"Rose Shakir\"\n",
    "B=A.replace('Shakir' , \"Ali\")\n",
    "B"
   ]
  },
  {
   "cell_type": "code",
   "execution_count": 27,
   "id": "ae1e50de",
   "metadata": {},
   "outputs": [
    {
     "name": "stdout",
     "output_type": "stream",
     "text": [
      "os: 1\n",
      "li: 6\n",
      "ir: -1\n"
     ]
    }
   ],
   "source": [
    "#find() method\n",
    "print(\"os:\", B.find('os'))\n",
    "print(\"li:\", B.find('li'))\n",
    "print(\"ir:\", B.find('ir'))"
   ]
  },
  {
   "cell_type": "markdown",
   "id": "825d7f8e",
   "metadata": {},
   "source": [
    "## 2.6 Immutable"
   ]
  },
  {
   "cell_type": "code",
   "execution_count": 31,
   "id": "931853df",
   "metadata": {
    "scrolled": false
   },
   "outputs": [
    {
     "ename": "TypeError",
     "evalue": "'str' object does not support item assignment",
     "output_type": "error",
     "traceback": [
      "\u001b[0;31m---------------------------------------------------------------------------\u001b[0m",
      "\u001b[0;31mTypeError\u001b[0m                                 Traceback (most recent call last)",
      "\u001b[0;32m/var/folders/qp/fz3lzyds5g516c4twsm5zn900000gn/T/ipykernel_81540/1402068520.py\u001b[0m in \u001b[0;36m<module>\u001b[0;34m\u001b[0m\n\u001b[0;32m----> 1\u001b[0;31m \u001b[0mName\u001b[0m\u001b[0;34m[\u001b[0m\u001b[0;36m0\u001b[0m\u001b[0;34m]\u001b[0m\u001b[0;34m=\u001b[0m \u001b[0;34m\"J\"\u001b[0m\u001b[0;34m\u001b[0m\u001b[0;34m\u001b[0m\u001b[0m\n\u001b[0m\u001b[1;32m      2\u001b[0m \u001b[0mName\u001b[0m\u001b[0;34m\u001b[0m\u001b[0;34m\u001b[0m\u001b[0m\n",
      "\u001b[0;31mTypeError\u001b[0m: 'str' object does not support item assignment"
     ]
    }
   ],
   "source": [
    "Name[0]= \"J\"\n",
    "Name"
   ]
  },
  {
   "cell_type": "code",
   "execution_count": 32,
   "id": "90aa4797",
   "metadata": {},
   "outputs": [
    {
     "data": {
      "text/plain": [
       "'Rose Shakir Al-Rubaye'"
      ]
     },
     "execution_count": 32,
     "metadata": {},
     "output_type": "execute_result"
    }
   ],
   "source": [
    "#concatenate\n",
    "My_Name = Name + \" Al-Rubaye\"\n",
    "My_Name"
   ]
  }
 ],
 "metadata": {
  "kernelspec": {
   "display_name": "Python 3 (ipykernel)",
   "language": "python",
   "name": "python3"
  },
  "language_info": {
   "codemirror_mode": {
    "name": "ipython",
    "version": 3
   },
   "file_extension": ".py",
   "mimetype": "text/x-python",
   "name": "python",
   "nbconvert_exporter": "python",
   "pygments_lexer": "ipython3",
   "version": "3.9.13"
  }
 },
 "nbformat": 4,
 "nbformat_minor": 5
}
