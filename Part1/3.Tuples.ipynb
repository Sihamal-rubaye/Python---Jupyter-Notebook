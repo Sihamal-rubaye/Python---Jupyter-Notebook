{
 "cells": [
  {
   "cell_type": "markdown",
   "id": "6fcb0c1b",
   "metadata": {},
   "source": [
    "# 3. Tuples"
   ]
  },
  {
   "cell_type": "code",
   "execution_count": 34,
   "id": "1be754af",
   "metadata": {},
   "outputs": [
    {
     "data": {
      "text/plain": [
       "('Rose', 100, 6.7)"
      ]
     },
     "execution_count": 34,
     "metadata": {},
     "output_type": "execute_result"
    }
   ],
   "source": [
    "Tuple1 = (\"Rose\", 100, 6.7) \n",
    "Tuple1"
   ]
  },
  {
   "cell_type": "code",
   "execution_count": 35,
   "id": "719cb068",
   "metadata": {},
   "outputs": [
    {
     "data": {
      "text/plain": [
       "6.7"
      ]
     },
     "execution_count": 35,
     "metadata": {},
     "output_type": "execute_result"
    }
   ],
   "source": [
    "Tuple1[-1]"
   ]
  },
  {
   "cell_type": "code",
   "execution_count": 36,
   "id": "769ee8aa",
   "metadata": {},
   "outputs": [
    {
     "data": {
      "text/plain": [
       "'Rose'"
      ]
     },
     "execution_count": 36,
     "metadata": {},
     "output_type": "execute_result"
    }
   ],
   "source": [
    "Tuple1[0]"
   ]
  },
  {
   "cell_type": "markdown",
   "id": "875ae89c",
   "metadata": {},
   "source": [
    "## 3.1 Concatenate"
   ]
  },
  {
   "cell_type": "code",
   "execution_count": 38,
   "id": "ad9ba41b",
   "metadata": {},
   "outputs": [
    {
     "data": {
      "text/plain": [
       "('Rose', 100, 6.7, 'Moh', 45)"
      ]
     },
     "execution_count": 38,
     "metadata": {},
     "output_type": "execute_result"
    }
   ],
   "source": [
    "#concatenate\n",
    "Tuple2 = Tuple1 + (\"Moh\", 45)\n",
    "Tuple2"
   ]
  },
  {
   "cell_type": "code",
   "execution_count": 40,
   "id": "08bb757e",
   "metadata": {},
   "outputs": [
    {
     "data": {
      "text/plain": [
       "('Rose', 100, 6.7)"
      ]
     },
     "execution_count": 40,
     "metadata": {},
     "output_type": "execute_result"
    }
   ],
   "source": [
    "#slicing\n",
    "Tuple2[0:3]"
   ]
  },
  {
   "cell_type": "code",
   "execution_count": 41,
   "id": "7b19484d",
   "metadata": {},
   "outputs": [
    {
     "data": {
      "text/plain": [
       "('Rose', 6.7, 45)"
      ]
     },
     "execution_count": 41,
     "metadata": {},
     "output_type": "execute_result"
    }
   ],
   "source": [
    "#stride\n",
    "Tuple2[::2]"
   ]
  },
  {
   "cell_type": "code",
   "execution_count": 42,
   "id": "55ff0466",
   "metadata": {},
   "outputs": [
    {
     "data": {
      "text/plain": [
       "5"
      ]
     },
     "execution_count": 42,
     "metadata": {},
     "output_type": "execute_result"
    }
   ],
   "source": [
    "len(Tuple2)"
   ]
  },
  {
   "cell_type": "code",
   "execution_count": 43,
   "id": "8033670c",
   "metadata": {},
   "outputs": [
    {
     "name": "stdout",
     "output_type": "stream",
     "text": [
      "[0, 1, 2, 4, 5, 7, 8, 10]\n"
     ]
    }
   ],
   "source": [
    "#sorting\n",
    "Ratings = (10,5,7,4,2,1,8,0)\n",
    "print((sorted(Ratings)))"
   ]
  },
  {
   "cell_type": "code",
   "execution_count": 45,
   "id": "fab7f5ea",
   "metadata": {},
   "outputs": [
    {
     "data": {
      "text/plain": [
       "[0, 1, 2, 4, 5, 7, 8, 10]"
      ]
     },
     "execution_count": 45,
     "metadata": {},
     "output_type": "execute_result"
    }
   ],
   "source": [
    "ratings_sorted = sorted(Ratings)\n",
    "ratings_sorted"
   ]
  },
  {
   "cell_type": "markdown",
   "id": "1a5e3882",
   "metadata": {},
   "source": [
    "## 3.2 Nesting"
   ]
  },
  {
   "cell_type": "code",
   "execution_count": 2,
   "id": "378082de",
   "metadata": {},
   "outputs": [
    {
     "data": {
      "text/plain": [
       "(1, 2, ('pop', 'rock'), (3, 4), 'disco', (1, 2))"
      ]
     },
     "execution_count": 2,
     "metadata": {},
     "output_type": "execute_result"
    }
   ],
   "source": [
    "NT = (1,2,(\"pop\", \"rock\"), (3,4),\"disco\",(1,2))\n",
    "NT"
   ]
  },
  {
   "cell_type": "code",
   "execution_count": 3,
   "id": "cfb0f506",
   "metadata": {},
   "outputs": [
    {
     "data": {
      "text/plain": [
       "('pop', 'rock')"
      ]
     },
     "execution_count": 3,
     "metadata": {},
     "output_type": "execute_result"
    }
   ],
   "source": [
    "NT[2]"
   ]
  },
  {
   "cell_type": "code",
   "execution_count": 4,
   "id": "7cbbc0e3",
   "metadata": {},
   "outputs": [
    {
     "data": {
      "text/plain": [
       "'rock'"
      ]
     },
     "execution_count": 4,
     "metadata": {},
     "output_type": "execute_result"
    }
   ],
   "source": [
    "NT[2][1]"
   ]
  },
  {
   "cell_type": "code",
   "execution_count": 5,
   "id": "8e0d77f7",
   "metadata": {},
   "outputs": [
    {
     "data": {
      "text/plain": [
       "'o'"
      ]
     },
     "execution_count": 5,
     "metadata": {},
     "output_type": "execute_result"
    }
   ],
   "source": [
    "NT[2][1][1]"
   ]
  },
  {
   "cell_type": "markdown",
   "id": "e5eff513",
   "metadata": {},
   "source": [
    "## 3.3 Tuple Methods"
   ]
  },
  {
   "cell_type": "code",
   "execution_count": 8,
   "id": "43465bf5",
   "metadata": {},
   "outputs": [
    {
     "name": "stdout",
     "output_type": "stream",
     "text": [
      "2\n",
      "3\n"
     ]
    }
   ],
   "source": [
    "my_tuple = ('a', 'p', 'p', 'l', 'e',)\n",
    "\n",
    "print(my_tuple.count('p'))  # prints 2\n",
    "print(my_tuple.index('l'))  # prints 3"
   ]
  },
  {
   "cell_type": "markdown",
   "id": "4f7b748f",
   "metadata": {},
   "source": [
    "## 3.4 Different Types of Tuples"
   ]
  },
  {
   "cell_type": "code",
   "execution_count": 10,
   "id": "5dec5f0e",
   "metadata": {},
   "outputs": [
    {
     "name": "stdout",
     "output_type": "stream",
     "text": [
      "()\n",
      "(1, 2, 3)\n",
      "(1, 'Hello', 3.4)\n",
      "('mouse', [8, 4, 6], (1, 2, 3))\n"
     ]
    }
   ],
   "source": [
    "# Empty tuple\n",
    "my_tuple = ()\n",
    "print(my_tuple)\n",
    "\n",
    "# Tuple having integers\n",
    "my_tuple = (1, 2, 3)\n",
    "print(my_tuple)\n",
    "\n",
    "# tuple with mixed datatypes\n",
    "my_tuple = (1, \"Hello\", 3.4)\n",
    "print(my_tuple)\n",
    "\n",
    "# nested tuple\n",
    "my_tuple = (\"mouse\", [8, 4, 6], (1, 2, 3))\n",
    "print(my_tuple)"
   ]
  },
  {
   "cell_type": "markdown",
   "id": "9fdfb55f",
   "metadata": {},
   "source": [
    "## 3.5 Create a Python Tuple With one Element"
   ]
  },
  {
   "cell_type": "code",
   "execution_count": 11,
   "id": "2efcc601",
   "metadata": {},
   "outputs": [],
   "source": [
    "var1 = (\"Hello\") # string\n",
    "var2 = (\"Hello\",) # tuple - We will need a trailing comma to indicate that it is a tuple,"
   ]
  },
  {
   "cell_type": "markdown",
   "id": "e28e631e",
   "metadata": {},
   "source": [
    "## 3.6 Iterating through a Tuple"
   ]
  },
  {
   "cell_type": "code",
   "execution_count": 12,
   "id": "402db642",
   "metadata": {},
   "outputs": [
    {
     "name": "stdout",
     "output_type": "stream",
     "text": [
      "Python\n",
      "Swift\n",
      "C++\n"
     ]
    }
   ],
   "source": [
    "languages = ('Python', 'Swift', 'C++')\n",
    "\n",
    "# iterating through the tuple\n",
    "for language in languages:\n",
    "    print(language)"
   ]
  }
 ],
 "metadata": {
  "kernelspec": {
   "display_name": "Python 3 (ipykernel)",
   "language": "python",
   "name": "python3"
  },
  "language_info": {
   "codemirror_mode": {
    "name": "ipython",
    "version": 3
   },
   "file_extension": ".py",
   "mimetype": "text/x-python",
   "name": "python",
   "nbconvert_exporter": "python",
   "pygments_lexer": "ipython3",
   "version": "3.9.13"
  }
 },
 "nbformat": 4,
 "nbformat_minor": 5
}
